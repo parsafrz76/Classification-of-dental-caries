{
  "nbformat": 4,
  "nbformat_minor": 0,
  "metadata": {
    "colab": {
      "provenance": [],
      "authorship_tag": "ABX9TyPCc203nXzTflpsqL84vk3X",
      "include_colab_link": true
    },
    "kernelspec": {
      "name": "python3",
      "display_name": "Python 3"
    },
    "language_info": {
      "name": "python"
    }
  },
  "cells": [
    {
      "cell_type": "markdown",
      "metadata": {
        "id": "view-in-github",
        "colab_type": "text"
      },
      "source": [
        "<a href=\"https://colab.research.google.com/github/parsafrz76/Classification-of-dental-caries/blob/main/ALABAMA_project.ipynb\" target=\"_parent\"><img src=\"https://colab.research.google.com/assets/colab-badge.svg\" alt=\"Open In Colab\"/></a>"
      ]
    },
    {
      "cell_type": "code",
      "execution_count": null,
      "metadata": {
        "id": "vSK_fsJZ0Wxz"
      },
      "outputs": [],
      "source": [
        "import numpy as np\n",
        "import matplotlib.pyplot as plt\n",
        "import pandas as pd\n",
        "import seaborn as sns"
      ]
    },
    {
      "cell_type": "code",
      "source": [
        "from google.colab import drive\n",
        "drive.mount('/content/gdrive', force_remount=True)"
      ],
      "metadata": {
        "id": "Qnf9F6rW0me9",
        "colab": {
          "base_uri": "https://localhost:8080/"
        },
        "outputId": "44abbcdf-ce5a-4b21-98ea-a360ca72644a"
      },
      "execution_count": null,
      "outputs": [
        {
          "output_type": "stream",
          "name": "stdout",
          "text": [
            "Mounted at /content/gdrive\n"
          ]
        }
      ]
    },
    {
      "cell_type": "code",
      "source": [
        "data=pd.read_csv('/content/gdrive/MyDrive/ALABAMA/data.csv',on_bad_lines='skip')"
      ],
      "metadata": {
        "id": "o7LKKTAx0pBt"
      },
      "execution_count": null,
      "outputs": []
    },
    {
      "cell_type": "code",
      "source": [
        "##"
      ],
      "metadata": {
        "id": "7yITbrwlZrhm"
      },
      "execution_count": null,
      "outputs": []
    },
    {
      "cell_type": "code",
      "source": [
        "import pandas as pd\n",
        "\n",
        "\n",
        "\n",
        "for i in range(data.shape[0]):##The 'for' loop iterates through the rows of the DataFrame.\n",
        "\n",
        "    l = data.loc[i][\"path\"].split(\",\")#It splits the \"path\" values by a comma and processes each part, removing certain characters.\n",
        "\n",
        "    f = \"\"\n",
        "    for j in l:\n",
        "        j = j.strip()\n",
        "        if j[0] != \"[\":\n",
        "            f = f + j[:-1] + \" \"\n",
        "    data.at[i, \"path\"] = f[:-1]  # Update the DataFrame with the modified 'path' value\n"
      ],
      "metadata": {
        "id": "zJS0WnWzYyWf"
      },
      "execution_count": null,
      "outputs": []
    },
    {
      "cell_type": "code",
      "source": [
        "data"
      ],
      "metadata": {
        "id": "pgwPHYvB0mlf",
        "colab": {
          "base_uri": "https://localhost:8080/",
          "height": 424
        },
        "outputId": "666da51a-c56e-4073-fb03-6aa52a37fa7a"
      },
      "execution_count": null,
      "outputs": [
        {
          "output_type": "execute_result",
          "data": {
            "text/plain": [
              "       Unnamed: 0                                               path  \\\n",
              "0               0  Phone Phone Phone Phone Phone Phone Phone Phon...   \n",
              "1               1  PC PC PC PC PC PC PC PC PC PC PC PC PC PC Phon...   \n",
              "2               2  Phone PC PC Phone PC PC PC PC PC PC PC PC PC P...   \n",
              "3               3  PC PC Phone PC Phone PC PC PC PC PC PC PC PC P...   \n",
              "4               4  PC Phone Phone Phone PC PC PC PC PC Phone Phon...   \n",
              "...           ...                                                ...   \n",
              "20485       20485  Phone PC PC PC Phone Phone Phone Phone Phone P...   \n",
              "20486       20486  PC PC PC Phone PC PC PC PC PC Phone PC PC PC P...   \n",
              "20487       20487  PC PC PC PC PC PC PC PC PC PC PC PC PC PC Phon...   \n",
              "20488       20488  Phone Phone Phone Phone PC PC PC PC Phone Phon...   \n",
              "20489       20489  Phone Phone PC PC PC Phone PC PC PC PC PC PC P...   \n",
              "\n",
              "       impressions     cost  sales  \n",
              "0               90  0.26882    NaN  \n",
              "1              180  0.47130    NaN  \n",
              "2               36  0.10622    NaN  \n",
              "3               60  0.14821    NaN  \n",
              "4               36  0.10069    NaN  \n",
              "...            ...      ...    ...  \n",
              "20485           51  0.14903    NaN  \n",
              "20486           45  0.14649    NaN  \n",
              "20487           46  0.15191    NaN  \n",
              "20488           30  0.06427    NaN  \n",
              "20489           90  0.29165    NaN  \n",
              "\n",
              "[20490 rows x 5 columns]"
            ],
            "text/html": [
              "\n",
              "  <div id=\"df-706fe196-beea-4f1b-b835-d7a3807bb75f\" class=\"colab-df-container\">\n",
              "    <div>\n",
              "<style scoped>\n",
              "    .dataframe tbody tr th:only-of-type {\n",
              "        vertical-align: middle;\n",
              "    }\n",
              "\n",
              "    .dataframe tbody tr th {\n",
              "        vertical-align: top;\n",
              "    }\n",
              "\n",
              "    .dataframe thead th {\n",
              "        text-align: right;\n",
              "    }\n",
              "</style>\n",
              "<table border=\"1\" class=\"dataframe\">\n",
              "  <thead>\n",
              "    <tr style=\"text-align: right;\">\n",
              "      <th></th>\n",
              "      <th>Unnamed: 0</th>\n",
              "      <th>path</th>\n",
              "      <th>impressions</th>\n",
              "      <th>cost</th>\n",
              "      <th>sales</th>\n",
              "    </tr>\n",
              "  </thead>\n",
              "  <tbody>\n",
              "    <tr>\n",
              "      <th>0</th>\n",
              "      <td>0</td>\n",
              "      <td>Phone Phone Phone Phone Phone Phone Phone Phon...</td>\n",
              "      <td>90</td>\n",
              "      <td>0.26882</td>\n",
              "      <td>NaN</td>\n",
              "    </tr>\n",
              "    <tr>\n",
              "      <th>1</th>\n",
              "      <td>1</td>\n",
              "      <td>PC PC PC PC PC PC PC PC PC PC PC PC PC PC Phon...</td>\n",
              "      <td>180</td>\n",
              "      <td>0.47130</td>\n",
              "      <td>NaN</td>\n",
              "    </tr>\n",
              "    <tr>\n",
              "      <th>2</th>\n",
              "      <td>2</td>\n",
              "      <td>Phone PC PC Phone PC PC PC PC PC PC PC PC PC P...</td>\n",
              "      <td>36</td>\n",
              "      <td>0.10622</td>\n",
              "      <td>NaN</td>\n",
              "    </tr>\n",
              "    <tr>\n",
              "      <th>3</th>\n",
              "      <td>3</td>\n",
              "      <td>PC PC Phone PC Phone PC PC PC PC PC PC PC PC P...</td>\n",
              "      <td>60</td>\n",
              "      <td>0.14821</td>\n",
              "      <td>NaN</td>\n",
              "    </tr>\n",
              "    <tr>\n",
              "      <th>4</th>\n",
              "      <td>4</td>\n",
              "      <td>PC Phone Phone Phone PC PC PC PC PC Phone Phon...</td>\n",
              "      <td>36</td>\n",
              "      <td>0.10069</td>\n",
              "      <td>NaN</td>\n",
              "    </tr>\n",
              "    <tr>\n",
              "      <th>...</th>\n",
              "      <td>...</td>\n",
              "      <td>...</td>\n",
              "      <td>...</td>\n",
              "      <td>...</td>\n",
              "      <td>...</td>\n",
              "    </tr>\n",
              "    <tr>\n",
              "      <th>20485</th>\n",
              "      <td>20485</td>\n",
              "      <td>Phone PC PC PC Phone Phone Phone Phone Phone P...</td>\n",
              "      <td>51</td>\n",
              "      <td>0.14903</td>\n",
              "      <td>NaN</td>\n",
              "    </tr>\n",
              "    <tr>\n",
              "      <th>20486</th>\n",
              "      <td>20486</td>\n",
              "      <td>PC PC PC Phone PC PC PC PC PC Phone PC PC PC P...</td>\n",
              "      <td>45</td>\n",
              "      <td>0.14649</td>\n",
              "      <td>NaN</td>\n",
              "    </tr>\n",
              "    <tr>\n",
              "      <th>20487</th>\n",
              "      <td>20487</td>\n",
              "      <td>PC PC PC PC PC PC PC PC PC PC PC PC PC PC Phon...</td>\n",
              "      <td>46</td>\n",
              "      <td>0.15191</td>\n",
              "      <td>NaN</td>\n",
              "    </tr>\n",
              "    <tr>\n",
              "      <th>20488</th>\n",
              "      <td>20488</td>\n",
              "      <td>Phone Phone Phone Phone PC PC PC PC Phone Phon...</td>\n",
              "      <td>30</td>\n",
              "      <td>0.06427</td>\n",
              "      <td>NaN</td>\n",
              "    </tr>\n",
              "    <tr>\n",
              "      <th>20489</th>\n",
              "      <td>20489</td>\n",
              "      <td>Phone Phone PC PC PC Phone PC PC PC PC PC PC P...</td>\n",
              "      <td>90</td>\n",
              "      <td>0.29165</td>\n",
              "      <td>NaN</td>\n",
              "    </tr>\n",
              "  </tbody>\n",
              "</table>\n",
              "<p>20490 rows × 5 columns</p>\n",
              "</div>\n",
              "    <div class=\"colab-df-buttons\">\n",
              "\n",
              "  <div class=\"colab-df-container\">\n",
              "    <button class=\"colab-df-convert\" onclick=\"convertToInteractive('df-706fe196-beea-4f1b-b835-d7a3807bb75f')\"\n",
              "            title=\"Convert this dataframe to an interactive table.\"\n",
              "            style=\"display:none;\">\n",
              "\n",
              "  <svg xmlns=\"http://www.w3.org/2000/svg\" height=\"24px\" viewBox=\"0 -960 960 960\">\n",
              "    <path d=\"M120-120v-720h720v720H120Zm60-500h600v-160H180v160Zm220 220h160v-160H400v160Zm0 220h160v-160H400v160ZM180-400h160v-160H180v160Zm440 0h160v-160H620v160ZM180-180h160v-160H180v160Zm440 0h160v-160H620v160Z\"/>\n",
              "  </svg>\n",
              "    </button>\n",
              "\n",
              "  <style>\n",
              "    .colab-df-container {\n",
              "      display:flex;\n",
              "      gap: 12px;\n",
              "    }\n",
              "\n",
              "    .colab-df-convert {\n",
              "      background-color: #E8F0FE;\n",
              "      border: none;\n",
              "      border-radius: 50%;\n",
              "      cursor: pointer;\n",
              "      display: none;\n",
              "      fill: #1967D2;\n",
              "      height: 32px;\n",
              "      padding: 0 0 0 0;\n",
              "      width: 32px;\n",
              "    }\n",
              "\n",
              "    .colab-df-convert:hover {\n",
              "      background-color: #E2EBFA;\n",
              "      box-shadow: 0px 1px 2px rgba(60, 64, 67, 0.3), 0px 1px 3px 1px rgba(60, 64, 67, 0.15);\n",
              "      fill: #174EA6;\n",
              "    }\n",
              "\n",
              "    .colab-df-buttons div {\n",
              "      margin-bottom: 4px;\n",
              "    }\n",
              "\n",
              "    [theme=dark] .colab-df-convert {\n",
              "      background-color: #3B4455;\n",
              "      fill: #D2E3FC;\n",
              "    }\n",
              "\n",
              "    [theme=dark] .colab-df-convert:hover {\n",
              "      background-color: #434B5C;\n",
              "      box-shadow: 0px 1px 3px 1px rgba(0, 0, 0, 0.15);\n",
              "      filter: drop-shadow(0px 1px 2px rgba(0, 0, 0, 0.3));\n",
              "      fill: #FFFFFF;\n",
              "    }\n",
              "  </style>\n",
              "\n",
              "    <script>\n",
              "      const buttonEl =\n",
              "        document.querySelector('#df-706fe196-beea-4f1b-b835-d7a3807bb75f button.colab-df-convert');\n",
              "      buttonEl.style.display =\n",
              "        google.colab.kernel.accessAllowed ? 'block' : 'none';\n",
              "\n",
              "      async function convertToInteractive(key) {\n",
              "        const element = document.querySelector('#df-706fe196-beea-4f1b-b835-d7a3807bb75f');\n",
              "        const dataTable =\n",
              "          await google.colab.kernel.invokeFunction('convertToInteractive',\n",
              "                                                    [key], {});\n",
              "        if (!dataTable) return;\n",
              "\n",
              "        const docLinkHtml = 'Like what you see? Visit the ' +\n",
              "          '<a target=\"_blank\" href=https://colab.research.google.com/notebooks/data_table.ipynb>data table notebook</a>'\n",
              "          + ' to learn more about interactive tables.';\n",
              "        element.innerHTML = '';\n",
              "        dataTable['output_type'] = 'display_data';\n",
              "        await google.colab.output.renderOutput(dataTable, element);\n",
              "        const docLink = document.createElement('div');\n",
              "        docLink.innerHTML = docLinkHtml;\n",
              "        element.appendChild(docLink);\n",
              "      }\n",
              "    </script>\n",
              "  </div>\n",
              "\n",
              "\n",
              "<div id=\"df-0be001f0-8fdd-44d6-b74b-2a1cbc29e1e8\">\n",
              "  <button class=\"colab-df-quickchart\" onclick=\"quickchart('df-0be001f0-8fdd-44d6-b74b-2a1cbc29e1e8')\"\n",
              "            title=\"Suggest charts.\"\n",
              "            style=\"display:none;\">\n",
              "\n",
              "<svg xmlns=\"http://www.w3.org/2000/svg\" height=\"24px\"viewBox=\"0 0 24 24\"\n",
              "     width=\"24px\">\n",
              "    <g>\n",
              "        <path d=\"M19 3H5c-1.1 0-2 .9-2 2v14c0 1.1.9 2 2 2h14c1.1 0 2-.9 2-2V5c0-1.1-.9-2-2-2zM9 17H7v-7h2v7zm4 0h-2V7h2v10zm4 0h-2v-4h2v4z\"/>\n",
              "    </g>\n",
              "</svg>\n",
              "  </button>\n",
              "\n",
              "<style>\n",
              "  .colab-df-quickchart {\n",
              "      --bg-color: #E8F0FE;\n",
              "      --fill-color: #1967D2;\n",
              "      --hover-bg-color: #E2EBFA;\n",
              "      --hover-fill-color: #174EA6;\n",
              "      --disabled-fill-color: #AAA;\n",
              "      --disabled-bg-color: #DDD;\n",
              "  }\n",
              "\n",
              "  [theme=dark] .colab-df-quickchart {\n",
              "      --bg-color: #3B4455;\n",
              "      --fill-color: #D2E3FC;\n",
              "      --hover-bg-color: #434B5C;\n",
              "      --hover-fill-color: #FFFFFF;\n",
              "      --disabled-bg-color: #3B4455;\n",
              "      --disabled-fill-color: #666;\n",
              "  }\n",
              "\n",
              "  .colab-df-quickchart {\n",
              "    background-color: var(--bg-color);\n",
              "    border: none;\n",
              "    border-radius: 50%;\n",
              "    cursor: pointer;\n",
              "    display: none;\n",
              "    fill: var(--fill-color);\n",
              "    height: 32px;\n",
              "    padding: 0;\n",
              "    width: 32px;\n",
              "  }\n",
              "\n",
              "  .colab-df-quickchart:hover {\n",
              "    background-color: var(--hover-bg-color);\n",
              "    box-shadow: 0 1px 2px rgba(60, 64, 67, 0.3), 0 1px 3px 1px rgba(60, 64, 67, 0.15);\n",
              "    fill: var(--button-hover-fill-color);\n",
              "  }\n",
              "\n",
              "  .colab-df-quickchart-complete:disabled,\n",
              "  .colab-df-quickchart-complete:disabled:hover {\n",
              "    background-color: var(--disabled-bg-color);\n",
              "    fill: var(--disabled-fill-color);\n",
              "    box-shadow: none;\n",
              "  }\n",
              "\n",
              "  .colab-df-spinner {\n",
              "    border: 2px solid var(--fill-color);\n",
              "    border-color: transparent;\n",
              "    border-bottom-color: var(--fill-color);\n",
              "    animation:\n",
              "      spin 1s steps(1) infinite;\n",
              "  }\n",
              "\n",
              "  @keyframes spin {\n",
              "    0% {\n",
              "      border-color: transparent;\n",
              "      border-bottom-color: var(--fill-color);\n",
              "      border-left-color: var(--fill-color);\n",
              "    }\n",
              "    20% {\n",
              "      border-color: transparent;\n",
              "      border-left-color: var(--fill-color);\n",
              "      border-top-color: var(--fill-color);\n",
              "    }\n",
              "    30% {\n",
              "      border-color: transparent;\n",
              "      border-left-color: var(--fill-color);\n",
              "      border-top-color: var(--fill-color);\n",
              "      border-right-color: var(--fill-color);\n",
              "    }\n",
              "    40% {\n",
              "      border-color: transparent;\n",
              "      border-right-color: var(--fill-color);\n",
              "      border-top-color: var(--fill-color);\n",
              "    }\n",
              "    60% {\n",
              "      border-color: transparent;\n",
              "      border-right-color: var(--fill-color);\n",
              "    }\n",
              "    80% {\n",
              "      border-color: transparent;\n",
              "      border-right-color: var(--fill-color);\n",
              "      border-bottom-color: var(--fill-color);\n",
              "    }\n",
              "    90% {\n",
              "      border-color: transparent;\n",
              "      border-bottom-color: var(--fill-color);\n",
              "    }\n",
              "  }\n",
              "</style>\n",
              "\n",
              "  <script>\n",
              "    async function quickchart(key) {\n",
              "      const quickchartButtonEl =\n",
              "        document.querySelector('#' + key + ' button');\n",
              "      quickchartButtonEl.disabled = true;  // To prevent multiple clicks.\n",
              "      quickchartButtonEl.classList.add('colab-df-spinner');\n",
              "      try {\n",
              "        const charts = await google.colab.kernel.invokeFunction(\n",
              "            'suggestCharts', [key], {});\n",
              "      } catch (error) {\n",
              "        console.error('Error during call to suggestCharts:', error);\n",
              "      }\n",
              "      quickchartButtonEl.classList.remove('colab-df-spinner');\n",
              "      quickchartButtonEl.classList.add('colab-df-quickchart-complete');\n",
              "    }\n",
              "    (() => {\n",
              "      let quickchartButtonEl =\n",
              "        document.querySelector('#df-0be001f0-8fdd-44d6-b74b-2a1cbc29e1e8 button');\n",
              "      quickchartButtonEl.style.display =\n",
              "        google.colab.kernel.accessAllowed ? 'block' : 'none';\n",
              "    })();\n",
              "  </script>\n",
              "</div>\n",
              "    </div>\n",
              "  </div>\n"
            ]
          },
          "metadata": {},
          "execution_count": 5
        }
      ]
    },
    {
      "cell_type": "code",
      "source": [
        "data=data.dropna() #Missing values are dropped here\n",
        "data= data.drop(columns=['Unnamed: 0']) #this column is just not important.\n"
      ],
      "metadata": {
        "id": "Tw0Jblu20mvb"
      },
      "execution_count": null,
      "outputs": []
    },
    {
      "cell_type": "code",
      "source": [
        "data['cost']=data['cost'].multiply(10) #for better scaling, it multiplied by 10"
      ],
      "metadata": {
        "id": "G9-Sg-EFP8N8"
      },
      "execution_count": null,
      "outputs": []
    },
    {
      "cell_type": "code",
      "source": [
        "ROAS=data.sales/data.cost #ROA is calculated according to the formula.\n",
        "data['ROAS']=ROAS\n",
        "data"
      ],
      "metadata": {
        "colab": {
          "base_uri": "https://localhost:8080/",
          "height": 424
        },
        "id": "0Ivs4oN8QJ1Y",
        "outputId": "2e3d9e04-712b-40a6-e527-0da021fc0731"
      },
      "execution_count": null,
      "outputs": [
        {
          "output_type": "execute_result",
          "data": {
            "text/plain": [
              "                                                    path  impressions  \\\n",
              "22     PC PC Phone Phone Phone Phone Phone Phone Phon...          384   \n",
              "29     Phone Phone Phone Phone Phone Phone Phone Phon...          180   \n",
              "52     Phone Phone Phone Phone Phone Phone Phone Phon...          378   \n",
              "66     Phone Phone Phone Phone Phone Phone Phone Phon...          360   \n",
              "70     Phone Phone Phone Phone Phone Phone Phone Phon...         5544   \n",
              "...                                                  ...          ...   \n",
              "20433  Phone Phone Phone Phone Phone Phone Phone Phon...        51246   \n",
              "20454  Phone Phone Phone Phone Phone Phone Phone Phon...          475   \n",
              "20456  Phone PC PC PC PC Phone Phone Phone Phone Phon...          588   \n",
              "20459  PC PC PC PC Phone Phone Phone Phone Phone Phon...         1068   \n",
              "20471                      PC Phone PC Phone Phone Phone         1668   \n",
              "\n",
              "            cost    sales      ROAS  \n",
              "22       11.2180    10.26  0.914602  \n",
              "29        5.5064    42.40  7.700131  \n",
              "52       11.7496    70.28  5.981480  \n",
              "66       10.8703    78.71  7.240831  \n",
              "70      145.0251   259.35  1.788311  \n",
              "...          ...      ...       ...  \n",
              "20433  1420.5175  2044.84  1.439504  \n",
              "20454    16.5165    11.64  0.704750  \n",
              "20456    16.5842    84.36  5.086769  \n",
              "20459    28.4601    13.27  0.466267  \n",
              "20471    47.0001    42.54  0.905104  \n",
              "\n",
              "[1452 rows x 5 columns]"
            ],
            "text/html": [
              "\n",
              "  <div id=\"df-5523ce47-f019-4c5e-98dc-6369be203632\" class=\"colab-df-container\">\n",
              "    <div>\n",
              "<style scoped>\n",
              "    .dataframe tbody tr th:only-of-type {\n",
              "        vertical-align: middle;\n",
              "    }\n",
              "\n",
              "    .dataframe tbody tr th {\n",
              "        vertical-align: top;\n",
              "    }\n",
              "\n",
              "    .dataframe thead th {\n",
              "        text-align: right;\n",
              "    }\n",
              "</style>\n",
              "<table border=\"1\" class=\"dataframe\">\n",
              "  <thead>\n",
              "    <tr style=\"text-align: right;\">\n",
              "      <th></th>\n",
              "      <th>path</th>\n",
              "      <th>impressions</th>\n",
              "      <th>cost</th>\n",
              "      <th>sales</th>\n",
              "      <th>ROAS</th>\n",
              "    </tr>\n",
              "  </thead>\n",
              "  <tbody>\n",
              "    <tr>\n",
              "      <th>22</th>\n",
              "      <td>PC PC Phone Phone Phone Phone Phone Phone Phon...</td>\n",
              "      <td>384</td>\n",
              "      <td>11.2180</td>\n",
              "      <td>10.26</td>\n",
              "      <td>0.914602</td>\n",
              "    </tr>\n",
              "    <tr>\n",
              "      <th>29</th>\n",
              "      <td>Phone Phone Phone Phone Phone Phone Phone Phon...</td>\n",
              "      <td>180</td>\n",
              "      <td>5.5064</td>\n",
              "      <td>42.40</td>\n",
              "      <td>7.700131</td>\n",
              "    </tr>\n",
              "    <tr>\n",
              "      <th>52</th>\n",
              "      <td>Phone Phone Phone Phone Phone Phone Phone Phon...</td>\n",
              "      <td>378</td>\n",
              "      <td>11.7496</td>\n",
              "      <td>70.28</td>\n",
              "      <td>5.981480</td>\n",
              "    </tr>\n",
              "    <tr>\n",
              "      <th>66</th>\n",
              "      <td>Phone Phone Phone Phone Phone Phone Phone Phon...</td>\n",
              "      <td>360</td>\n",
              "      <td>10.8703</td>\n",
              "      <td>78.71</td>\n",
              "      <td>7.240831</td>\n",
              "    </tr>\n",
              "    <tr>\n",
              "      <th>70</th>\n",
              "      <td>Phone Phone Phone Phone Phone Phone Phone Phon...</td>\n",
              "      <td>5544</td>\n",
              "      <td>145.0251</td>\n",
              "      <td>259.35</td>\n",
              "      <td>1.788311</td>\n",
              "    </tr>\n",
              "    <tr>\n",
              "      <th>...</th>\n",
              "      <td>...</td>\n",
              "      <td>...</td>\n",
              "      <td>...</td>\n",
              "      <td>...</td>\n",
              "      <td>...</td>\n",
              "    </tr>\n",
              "    <tr>\n",
              "      <th>20433</th>\n",
              "      <td>Phone Phone Phone Phone Phone Phone Phone Phon...</td>\n",
              "      <td>51246</td>\n",
              "      <td>1420.5175</td>\n",
              "      <td>2044.84</td>\n",
              "      <td>1.439504</td>\n",
              "    </tr>\n",
              "    <tr>\n",
              "      <th>20454</th>\n",
              "      <td>Phone Phone Phone Phone Phone Phone Phone Phon...</td>\n",
              "      <td>475</td>\n",
              "      <td>16.5165</td>\n",
              "      <td>11.64</td>\n",
              "      <td>0.704750</td>\n",
              "    </tr>\n",
              "    <tr>\n",
              "      <th>20456</th>\n",
              "      <td>Phone PC PC PC PC Phone Phone Phone Phone Phon...</td>\n",
              "      <td>588</td>\n",
              "      <td>16.5842</td>\n",
              "      <td>84.36</td>\n",
              "      <td>5.086769</td>\n",
              "    </tr>\n",
              "    <tr>\n",
              "      <th>20459</th>\n",
              "      <td>PC PC PC PC Phone Phone Phone Phone Phone Phon...</td>\n",
              "      <td>1068</td>\n",
              "      <td>28.4601</td>\n",
              "      <td>13.27</td>\n",
              "      <td>0.466267</td>\n",
              "    </tr>\n",
              "    <tr>\n",
              "      <th>20471</th>\n",
              "      <td>PC Phone PC Phone Phone Phone</td>\n",
              "      <td>1668</td>\n",
              "      <td>47.0001</td>\n",
              "      <td>42.54</td>\n",
              "      <td>0.905104</td>\n",
              "    </tr>\n",
              "  </tbody>\n",
              "</table>\n",
              "<p>1452 rows × 5 columns</p>\n",
              "</div>\n",
              "    <div class=\"colab-df-buttons\">\n",
              "\n",
              "  <div class=\"colab-df-container\">\n",
              "    <button class=\"colab-df-convert\" onclick=\"convertToInteractive('df-5523ce47-f019-4c5e-98dc-6369be203632')\"\n",
              "            title=\"Convert this dataframe to an interactive table.\"\n",
              "            style=\"display:none;\">\n",
              "\n",
              "  <svg xmlns=\"http://www.w3.org/2000/svg\" height=\"24px\" viewBox=\"0 -960 960 960\">\n",
              "    <path d=\"M120-120v-720h720v720H120Zm60-500h600v-160H180v160Zm220 220h160v-160H400v160Zm0 220h160v-160H400v160ZM180-400h160v-160H180v160Zm440 0h160v-160H620v160ZM180-180h160v-160H180v160Zm440 0h160v-160H620v160Z\"/>\n",
              "  </svg>\n",
              "    </button>\n",
              "\n",
              "  <style>\n",
              "    .colab-df-container {\n",
              "      display:flex;\n",
              "      gap: 12px;\n",
              "    }\n",
              "\n",
              "    .colab-df-convert {\n",
              "      background-color: #E8F0FE;\n",
              "      border: none;\n",
              "      border-radius: 50%;\n",
              "      cursor: pointer;\n",
              "      display: none;\n",
              "      fill: #1967D2;\n",
              "      height: 32px;\n",
              "      padding: 0 0 0 0;\n",
              "      width: 32px;\n",
              "    }\n",
              "\n",
              "    .colab-df-convert:hover {\n",
              "      background-color: #E2EBFA;\n",
              "      box-shadow: 0px 1px 2px rgba(60, 64, 67, 0.3), 0px 1px 3px 1px rgba(60, 64, 67, 0.15);\n",
              "      fill: #174EA6;\n",
              "    }\n",
              "\n",
              "    .colab-df-buttons div {\n",
              "      margin-bottom: 4px;\n",
              "    }\n",
              "\n",
              "    [theme=dark] .colab-df-convert {\n",
              "      background-color: #3B4455;\n",
              "      fill: #D2E3FC;\n",
              "    }\n",
              "\n",
              "    [theme=dark] .colab-df-convert:hover {\n",
              "      background-color: #434B5C;\n",
              "      box-shadow: 0px 1px 3px 1px rgba(0, 0, 0, 0.15);\n",
              "      filter: drop-shadow(0px 1px 2px rgba(0, 0, 0, 0.3));\n",
              "      fill: #FFFFFF;\n",
              "    }\n",
              "  </style>\n",
              "\n",
              "    <script>\n",
              "      const buttonEl =\n",
              "        document.querySelector('#df-5523ce47-f019-4c5e-98dc-6369be203632 button.colab-df-convert');\n",
              "      buttonEl.style.display =\n",
              "        google.colab.kernel.accessAllowed ? 'block' : 'none';\n",
              "\n",
              "      async function convertToInteractive(key) {\n",
              "        const element = document.querySelector('#df-5523ce47-f019-4c5e-98dc-6369be203632');\n",
              "        const dataTable =\n",
              "          await google.colab.kernel.invokeFunction('convertToInteractive',\n",
              "                                                    [key], {});\n",
              "        if (!dataTable) return;\n",
              "\n",
              "        const docLinkHtml = 'Like what you see? Visit the ' +\n",
              "          '<a target=\"_blank\" href=https://colab.research.google.com/notebooks/data_table.ipynb>data table notebook</a>'\n",
              "          + ' to learn more about interactive tables.';\n",
              "        element.innerHTML = '';\n",
              "        dataTable['output_type'] = 'display_data';\n",
              "        await google.colab.output.renderOutput(dataTable, element);\n",
              "        const docLink = document.createElement('div');\n",
              "        docLink.innerHTML = docLinkHtml;\n",
              "        element.appendChild(docLink);\n",
              "      }\n",
              "    </script>\n",
              "  </div>\n",
              "\n",
              "\n",
              "<div id=\"df-12be0dfd-d5c8-4102-b1c8-20e7ccd603cc\">\n",
              "  <button class=\"colab-df-quickchart\" onclick=\"quickchart('df-12be0dfd-d5c8-4102-b1c8-20e7ccd603cc')\"\n",
              "            title=\"Suggest charts.\"\n",
              "            style=\"display:none;\">\n",
              "\n",
              "<svg xmlns=\"http://www.w3.org/2000/svg\" height=\"24px\"viewBox=\"0 0 24 24\"\n",
              "     width=\"24px\">\n",
              "    <g>\n",
              "        <path d=\"M19 3H5c-1.1 0-2 .9-2 2v14c0 1.1.9 2 2 2h14c1.1 0 2-.9 2-2V5c0-1.1-.9-2-2-2zM9 17H7v-7h2v7zm4 0h-2V7h2v10zm4 0h-2v-4h2v4z\"/>\n",
              "    </g>\n",
              "</svg>\n",
              "  </button>\n",
              "\n",
              "<style>\n",
              "  .colab-df-quickchart {\n",
              "      --bg-color: #E8F0FE;\n",
              "      --fill-color: #1967D2;\n",
              "      --hover-bg-color: #E2EBFA;\n",
              "      --hover-fill-color: #174EA6;\n",
              "      --disabled-fill-color: #AAA;\n",
              "      --disabled-bg-color: #DDD;\n",
              "  }\n",
              "\n",
              "  [theme=dark] .colab-df-quickchart {\n",
              "      --bg-color: #3B4455;\n",
              "      --fill-color: #D2E3FC;\n",
              "      --hover-bg-color: #434B5C;\n",
              "      --hover-fill-color: #FFFFFF;\n",
              "      --disabled-bg-color: #3B4455;\n",
              "      --disabled-fill-color: #666;\n",
              "  }\n",
              "\n",
              "  .colab-df-quickchart {\n",
              "    background-color: var(--bg-color);\n",
              "    border: none;\n",
              "    border-radius: 50%;\n",
              "    cursor: pointer;\n",
              "    display: none;\n",
              "    fill: var(--fill-color);\n",
              "    height: 32px;\n",
              "    padding: 0;\n",
              "    width: 32px;\n",
              "  }\n",
              "\n",
              "  .colab-df-quickchart:hover {\n",
              "    background-color: var(--hover-bg-color);\n",
              "    box-shadow: 0 1px 2px rgba(60, 64, 67, 0.3), 0 1px 3px 1px rgba(60, 64, 67, 0.15);\n",
              "    fill: var(--button-hover-fill-color);\n",
              "  }\n",
              "\n",
              "  .colab-df-quickchart-complete:disabled,\n",
              "  .colab-df-quickchart-complete:disabled:hover {\n",
              "    background-color: var(--disabled-bg-color);\n",
              "    fill: var(--disabled-fill-color);\n",
              "    box-shadow: none;\n",
              "  }\n",
              "\n",
              "  .colab-df-spinner {\n",
              "    border: 2px solid var(--fill-color);\n",
              "    border-color: transparent;\n",
              "    border-bottom-color: var(--fill-color);\n",
              "    animation:\n",
              "      spin 1s steps(1) infinite;\n",
              "  }\n",
              "\n",
              "  @keyframes spin {\n",
              "    0% {\n",
              "      border-color: transparent;\n",
              "      border-bottom-color: var(--fill-color);\n",
              "      border-left-color: var(--fill-color);\n",
              "    }\n",
              "    20% {\n",
              "      border-color: transparent;\n",
              "      border-left-color: var(--fill-color);\n",
              "      border-top-color: var(--fill-color);\n",
              "    }\n",
              "    30% {\n",
              "      border-color: transparent;\n",
              "      border-left-color: var(--fill-color);\n",
              "      border-top-color: var(--fill-color);\n",
              "      border-right-color: var(--fill-color);\n",
              "    }\n",
              "    40% {\n",
              "      border-color: transparent;\n",
              "      border-right-color: var(--fill-color);\n",
              "      border-top-color: var(--fill-color);\n",
              "    }\n",
              "    60% {\n",
              "      border-color: transparent;\n",
              "      border-right-color: var(--fill-color);\n",
              "    }\n",
              "    80% {\n",
              "      border-color: transparent;\n",
              "      border-right-color: var(--fill-color);\n",
              "      border-bottom-color: var(--fill-color);\n",
              "    }\n",
              "    90% {\n",
              "      border-color: transparent;\n",
              "      border-bottom-color: var(--fill-color);\n",
              "    }\n",
              "  }\n",
              "</style>\n",
              "\n",
              "  <script>\n",
              "    async function quickchart(key) {\n",
              "      const quickchartButtonEl =\n",
              "        document.querySelector('#' + key + ' button');\n",
              "      quickchartButtonEl.disabled = true;  // To prevent multiple clicks.\n",
              "      quickchartButtonEl.classList.add('colab-df-spinner');\n",
              "      try {\n",
              "        const charts = await google.colab.kernel.invokeFunction(\n",
              "            'suggestCharts', [key], {});\n",
              "      } catch (error) {\n",
              "        console.error('Error during call to suggestCharts:', error);\n",
              "      }\n",
              "      quickchartButtonEl.classList.remove('colab-df-spinner');\n",
              "      quickchartButtonEl.classList.add('colab-df-quickchart-complete');\n",
              "    }\n",
              "    (() => {\n",
              "      let quickchartButtonEl =\n",
              "        document.querySelector('#df-12be0dfd-d5c8-4102-b1c8-20e7ccd603cc button');\n",
              "      quickchartButtonEl.style.display =\n",
              "        google.colab.kernel.accessAllowed ? 'block' : 'none';\n",
              "    })();\n",
              "  </script>\n",
              "</div>\n",
              "    </div>\n",
              "  </div>\n"
            ]
          },
          "metadata": {},
          "execution_count": 8
        }
      ]
    },
    {
      "cell_type": "code",
      "source": [
        "dataplot = sns.heatmap(data.corr(), cmap=\"YlGnBu\", annot=True) #heatmaps for correlation is drawn by this function\n"
      ],
      "metadata": {
        "colab": {
          "base_uri": "https://localhost:8080/",
          "height": 491
        },
        "id": "1-oOq4_KQPR9",
        "outputId": "a38fcb8f-cbe2-48cf-a421-3c2c7fc4de76"
      },
      "execution_count": null,
      "outputs": [
        {
          "output_type": "stream",
          "name": "stderr",
          "text": [
            "<ipython-input-9-6dabf48db315>:1: FutureWarning: The default value of numeric_only in DataFrame.corr is deprecated. In a future version, it will default to False. Select only valid columns or specify the value of numeric_only to silence this warning.\n",
            "  dataplot = sns.heatmap(data.corr(), cmap=\"YlGnBu\", annot=True)\n"
          ]
        },
        {
          "output_type": "display_data",
          "data": {
            "text/plain": [
              "<Figure size 640x480 with 2 Axes>"
            ],
            "image/png": "[encoded data removed]"
          },
          "metadata": {}
        }
      ]
    },
    {
      "cell_type": "code",
      "source": [
        "plt.scatter(x='cost',y='impressions',c='y',data=data) #scateet plot of cost and impression. It is linear.\n"
      ],
      "metadata": {
        "colab": {
          "base_uri": "https://localhost:8080/",
          "height": 463
        },
        "id": "rbytJgKaQalw",
        "outputId": "dbfa49f8-2e40-47cc-9449-dc47f5e5d83f"
      },
      "execution_count": null,
      "outputs": [
        {
          "output_type": "execute_result",
          "data": {
            "text/plain": [
              "<matplotlib.collections.PathCollection at 0x7f3461337070>"
            ]
          },
          "metadata": {},
          "execution_count": 12
        },
        {
          "output_type": "display_data",
          "data": {
            "text/plain": [
              "<Figure size 640x480 with 1 Axes>"
            ],
            "image/png": "[encoded data removed]"
          },
          "metadata": {}
        }
      ]
    },
    {
      "cell_type": "code",
      "source": [
        "plt.scatter(x='sales',y='impressions',data=data) #scatter plot of sales and impressions\n"
      ],
      "metadata": {
        "colab": {
          "base_uri": "https://localhost:8080/",
          "height": 463
        },
        "id": "rV9jwaIcQd9a",
        "outputId": "bfd111c5-9a3c-42cc-8e1b-aa940044c8f6"
      },
      "execution_count": null,
      "outputs": [
        {
          "output_type": "execute_result",
          "data": {
            "text/plain": [
              "<matplotlib.collections.PathCollection at 0x7f345f1c7b20>"
            ]
          },
          "metadata": {},
          "execution_count": 13
        },
        {
          "output_type": "display_data",
          "data": {
            "text/plain": [
              "<Figure size 640x480 with 1 Axes>"
            ],
            "image/png": "[encoded data removed]"
          },
          "metadata": {}
        }
      ]
    },
    {
      "cell_type": "code",
      "source": [
        "plt.scatter(x='cost',y='ROAS',c='g',data=data) #scatterplot of cost and ROAS\n"
      ],
      "metadata": {
        "colab": {
          "base_uri": "https://localhost:8080/",
          "height": 448
        },
        "id": "V2j1jABpQeAK",
        "outputId": "d7995e8c-fc23-47f0-902c-3d0f4a6e60aa"
      },
      "execution_count": null,
      "outputs": [
        {
          "output_type": "execute_result",
          "data": {
            "text/plain": [
              "<matplotlib.collections.PathCollection at 0x7f345f052770>"
            ]
          },
          "metadata": {},
          "execution_count": 14
        },
        {
          "output_type": "display_data",
          "data": {
            "text/plain": [
              "<Figure size 640x480 with 1 Axes>"
            ],
            "image/png": "[encoded data removed]"
          },
          "metadata": {}
        }
      ]
    },
    {
      "cell_type": "code",
      "source": [
        "plt.scatter(x='sales',y='ROAS',c='r',data=data) #scatterplot of sales and ROAS\n"
      ],
      "metadata": {
        "colab": {
          "base_uri": "https://localhost:8080/",
          "height": 448
        },
        "id": "KEiWgOTvQeCI",
        "outputId": "5521b299-89f2-4d4a-d82c-4510ad526c40"
      },
      "execution_count": null,
      "outputs": [
        {
          "output_type": "execute_result",
          "data": {
            "text/plain": [
              "<matplotlib.collections.PathCollection at 0x7f345f0e1300>"
            ]
          },
          "metadata": {},
          "execution_count": 15
        },
        {
          "output_type": "display_data",
          "data": {
            "text/plain": [
              "<Figure size 640x480 with 1 Axes>"
            ],
            "image/png": "[encoded data removed]"
          },
          "metadata": {}
        }
      ]
    },
    {
      "cell_type": "code",
      "source": [
        "plt.boxplot(data.cost)\n",
        "fig = plt.figure(figsize =(10,10))\n",
        "plt.show()\n",
        "plt.boxplot(data.sales)\n",
        "fig = plt.figure(figsize =(10,10))\n",
        "plt.show()\n",
        "plt.boxplot(data.impressions)\n",
        "fig = plt.figure(figsize =(10,10))\n",
        "plt.show()\n",
        "plt.boxplot(data.ROAS)\n",
        "fig = plt.figure(figsize =(10,10))\n",
        "plt.show()\n",
        "#boxplot are not depicted in the report. There is no significant information. There are some outlier in all variables."
      ],
      "metadata": {
        "colab": {
          "base_uri": "https://localhost:8080/",
          "height": 1000
        },
        "id": "jIgZTIXhQeEV",
        "outputId": "35489331-7952-475b-da6b-3f6728b9982d"
      },
      "execution_count": null,
      "outputs": [
        {
          "output_type": "display_data",
          "data": {
            "text/plain": [
              "<Figure size 640x480 with 1 Axes>"
            ],
            "image/png": "[encoded data removed]"
          },
          "metadata": {}
        },
        {
          "output_type": "display_data",
          "data": {
            "text/plain": [
              "<Figure size 1000x1000 with 0 Axes>"
            ]
          },
          "metadata": {}
        },
        {
          "output_type": "display_data",
          "data": {
            "text/plain": [
              "<Figure size 640x480 with 1 Axes>"
            ],
            "image/png": "[encoded data removed]"
          },
          "metadata": {}
        },
        {
          "output_type": "display_data",
          "data": {
            "text/plain": [
              "<Figure size 1000x1000 with 0 Axes>"
            ]
          },
          "metadata": {}
        },
        {
          "output_type": "display_data",
          "data": {
            "text/plain": [
              "<Figure size 640x480 with 1 Axes>"
            ],
            "image/png": "[encoded data removed]"
          },
          "metadata": {}
        },
        {
          "output_type": "display_data",
          "data": {
            "text/plain": [
              "<Figure size 1000x1000 with 0 Axes>"
            ]
          },
          "metadata": {}
        },
        {
          "output_type": "display_data",
          "data": {
            "text/plain": [
              "<Figure size 640x480 with 1 Axes>"
            ],
            "image/png": "[encoded data removed]"
          },
          "metadata": {}
        },
        {
          "output_type": "display_data",
          "data": {
            "text/plain": [
              "<Figure size 1000x1000 with 0 Axes>"
            ]
          },
          "metadata": {}
        }
      ]
    },
    {
      "cell_type": "code",
      "source": [
        "def describe_new(data):\n",
        "    data1 = data.describe()\n",
        "    data1.loc[\"range\"] = data1.loc['max'] - data1.loc['min'] #Decsribe does not provide the range. We calculated the range by defining new function.\n",
        "    return data1\n",
        "\n",
        "print (describe_new(data))"
      ],
      "metadata": {
        "colab": {
          "base_uri": "https://localhost:8080/"
        },
        "id": "R3-DOj41QeGh",
        "outputId": "ebf0e2be-bf77-4c6e-9431-5bf9203e6ffe"
      },
      "execution_count": null,
      "outputs": [
        {
          "output_type": "stream",
          "name": "stdout",
          "text": [
            "        impressions           cost         sales         ROAS\n",
            "count  1.452000e+03    1452.000000   1452.000000  1452.000000\n",
            "mean   2.927579e+04     768.936401    620.288953     2.983201\n",
            "std    1.891426e+05    4981.323461   1816.852333     5.511928\n",
            "min    2.200000e+01       0.667300      3.120000     0.105468\n",
            "25%    5.400000e+02      15.285675     27.050000     0.848850\n",
            "50%    1.886000e+03      50.681400     72.470000     1.555654\n",
            "75%    8.020500e+03     197.654375    288.560000     2.897655\n",
            "max    4.116002e+06  103961.476200  15452.900000    78.120785\n",
            "range  4.115980e+06  103960.808900  15449.780000    78.015317\n"
          ]
        }
      ]
    },
    {
      "cell_type": "code",
      "source": [
        "data1 = data.copy()\n",
        "data1.loc[data1['ROAS'] < 2, 'label'] = 0\n",
        "data1.loc[data1['ROAS'] >= 2, 'label'] = 1\n",
        "# we defined labels for ROAs"
      ],
      "metadata": {
        "id": "xFmjY3qaQzuo"
      },
      "execution_count": null,
      "outputs": []
    },
    {
      "cell_type": "code",
      "source": [
        "counts = data1['label'].value_counts()\n",
        "counts\n",
        "#To some extent it is imbalanced."
      ],
      "metadata": {
        "colab": {
          "base_uri": "https://localhost:8080/"
        },
        "id": "NwdWyFojQ3hL",
        "outputId": "724d4acb-ada9-44af-e504-c5b76eed418b"
      },
      "execution_count": null,
      "outputs": [
        {
          "output_type": "execute_result",
          "data": {
            "text/plain": [
              "0.0    905\n",
              "1.0    547\n",
              "Name: label, dtype: int64"
            ]
          },
          "metadata": {},
          "execution_count": 11
        }
      ]
    },
    {
      "cell_type": "code",
      "source": [
        "from tensorflow.keras.preprocessing.text import Tokenizer\n",
        "from tensorflow.keras.preprocessing.sequence import pad_sequences\n",
        "#for working with sequences, we need to encode them and make tokens."
      ],
      "metadata": {
        "id": "PHlehVYBRKrk"
      },
      "execution_count": null,
      "outputs": []
    },
    {
      "cell_type": "code",
      "source": [
        "tokenizer = Tokenizer()\n",
        "tokenizer.fit_on_texts(data1[\"path\"]) #fits the tokenizer on the text data in the \"path\" column of the DataFrame data1. This step builds the vocabulary based on the text in that column.\n",
        "\n",
        "# Convert text to sequences\n",
        "sequences = tokenizer.texts_to_sequences(data[\"path\"]) #converts the text in the \"path\" column of the DataFrame data into sequences of integers. This replaces each word in the text with its corresponding index in the vocabulary created by the tokenizer.\n",
        "max_sequence_length = 300  # Adjust as needed\n",
        "sequences = pad_sequences(sequences, maxlen=max_sequence_length) #pads the sequences to a fixed length of max_sequence_length using pad_sequences. This ensures that all sequences are of the same length, which is often necessary for feeding the data into neural networks\n",
        "vocab_size = len(tokenizer.word_index) + 1#calculate the vocabulary size, which is one more than the length of the tokenizer's word index. This is useful for defining the input dimension of an embedding layer in a neural network.\n"
      ],
      "metadata": {
        "id": "qTiM8OeXRMGr"
      },
      "execution_count": null,
      "outputs": []
    },
    {
      "cell_type": "code",
      "source": [
        "X=data1.drop(columns=['label']) #defining X and y for training\n",
        "y=data1['label']\n"
      ],
      "metadata": {
        "id": "n_shGnRURMST"
      },
      "execution_count": null,
      "outputs": []
    },
    {
      "cell_type": "code",
      "source": [
        "from sklearn.model_selection import train_test_split\n",
        "\n",
        "X_train, X_test, y_train, y_test = train_test_split(sequences,y, test_size=0.3, random_state=42) #30% splitted for testing and 70% for training.\n"
      ],
      "metadata": {
        "id": "xKQQhRUIRMas"
      },
      "execution_count": null,
      "outputs": []
    },
    {
      "cell_type": "code",
      "source": [
        "from tensorflow.keras.preprocessing.sequence import pad_sequences\n",
        "\n",
        "# Assuming 'X_train' contains  sequences (list of lists)\n",
        "# Ensure 'X_train' is a list of lists with integer-encoded sequences\n",
        "\n",
        "# Pad sequences to the same length (max_sequence_length)\n",
        "X_train_padded = pad_sequences(X_train, maxlen=max_sequence_length, padding='post', truncating='post')\n",
        "\n",
        "# Now, 'X_train_padded' should have a shape of (num_samples, max_sequence_length)\n"
      ],
      "metadata": {
        "id": "eGv75Uq0Yf0E"
      },
      "execution_count": null,
      "outputs": []
    },
    {
      "cell_type": "markdown",
      "source": [
        "**Machine learning** **methods**"
      ],
      "metadata": {
        "id": "pOukSx7dRmlR"
      }
    },
    {
      "cell_type": "code",
      "source": [
        "from sklearn.preprocessing import MinMaxScaler\n",
        "from sklearn.model_selection import GridSearchCV\n",
        "from sklearn.linear_model import LogisticRegression\n",
        "from sklearn.svm import SVC\n",
        "from sklearn.neighbors import KNeighborsClassifier\n",
        "from sklearn.metrics import accuracy_score, classification_report"
      ],
      "metadata": {
        "id": "vcQkXJISRuYy"
      },
      "execution_count": null,
      "outputs": []
    },
    {
      "cell_type": "markdown",
      "source": [
        "**Logistic regression**"
      ],
      "metadata": {
        "id": "ZSCVPJG7Siv6"
      }
    },
    {
      "cell_type": "code",
      "source": [
        "param_grid = {\n",
        "    'C': [0.0001,0.001, 0.01, 0.1, 1,10],  # Regularization strength\n",
        "    'penalty': ['l1', 'l2']          # Regularization penalty (L1 or L2)\n",
        "}\n"
      ],
      "metadata": {
        "id": "DkOyO3jtSexp"
      },
      "execution_count": null,
      "outputs": []
    },
    {
      "cell_type": "code",
      "source": [
        "logistic_reg = LogisticRegression(solver='liblinear')\n",
        "grid_search = GridSearchCV(estimator=logistic_reg, param_grid=param_grid, scoring='accuracy', cv=5)\n",
        "grid_search.fit(X_train, y_train)\n"
      ],
      "metadata": {
        "colab": {
          "base_uri": "https://localhost:8080/",
          "height": 118
        },
        "id": "o8iT9rYkSe5f",
        "outputId": "e1c6dbe4-89e6-44d9-ceb7-8fd6f0b1a32a"
      },
      "execution_count": null,
      "outputs": [
        {
          "output_type": "execute_result",
          "data": {
            "text/plain": [
              "GridSearchCV(cv=5, estimator=LogisticRegression(solver='liblinear'),\n",
              "             param_grid={'C': [0.0001, 0.001, 0.01, 0.1, 1, 10],\n",
              "                         'penalty': ['l1', 'l2']},\n",
              "             scoring='accuracy')"
            ],
            "text/html": [
              "<style>#sk-container-id-2 {color: black;background-color: white;}#sk-container-id-2 pre{padding: 0;}#sk-container-id-2 div.sk-toggleable {background-color: white;}#sk-container-id-2 label.sk-toggleable__label {cursor: pointer;display: block;width: 100%;margin-bottom: 0;padding: 0.3em;box-sizing: border-box;text-align: center;}#sk-container-id-2 label.sk-toggleable__label-arrow:before {content: \"▸\";float: left;margin-right: 0.25em;color: #696969;}#sk-container-id-2 label.sk-toggleable__label-arrow:hover:before {color: black;}#sk-container-id-2 div.sk-estimator:hover label.sk-toggleable__label-arrow:before {color: black;}#sk-container-id-2 div.sk-toggleable__content {max-height: 0;max-width: 0;overflow: hidden;text-align: left;background-color: #f0f8ff;}#sk-container-id-2 div.sk-toggleable__content pre {margin: 0.2em;color: black;border-radius: 0.25em;background-color: #f0f8ff;}#sk-container-id-2 input.sk-toggleable__control:checked~div.sk-toggleable__content {max-height: 200px;max-width: 100%;overflow: auto;}#sk-container-id-2 input.sk-toggleable__control:checked~label.sk-toggleable__label-arrow:before {content: \"▾\";}#sk-container-id-2 div.sk-estimator input.sk-toggleable__control:checked~label.sk-toggleable__label {background-color: #d4ebff;}#sk-container-id-2 div.sk-label input.sk-toggleable__control:checked~label.sk-toggleable__label {background-color: #d4ebff;}#sk-container-id-2 input.sk-hidden--visually {border: 0;clip: rect(1px 1px 1px 1px);clip: rect(1px, 1px, 1px, 1px);height: 1px;margin: -1px;overflow: hidden;padding: 0;position: absolute;width: 1px;}#sk-container-id-2 div.sk-estimator {font-family: monospace;background-color: #f0f8ff;border: 1px dotted black;border-radius: 0.25em;box-sizing: border-box;margin-bottom: 0.5em;}#sk-container-id-2 div.sk-estimator:hover {background-color: #d4ebff;}#sk-container-id-2 div.sk-parallel-item::after {content: \"\";width: 100%;border-bottom: 1px solid gray;flex-grow: 1;}#sk-container-id-2 div.sk-label:hover label.sk-toggleable__label {background-color: #d4ebff;}#sk-container-id-2 div.sk-serial::before {content: \"\";position: absolute;border-left: 1px solid gray;box-sizing: border-box;top: 0;bottom: 0;left: 50%;z-index: 0;}#sk-container-id-2 div.sk-serial {display: flex;flex-direction: column;align-items: center;background-color: white;padding-right: 0.2em;padding-left: 0.2em;position: relative;}#sk-container-id-2 div.sk-item {position: relative;z-index: 1;}#sk-container-id-2 div.sk-parallel {display: flex;align-items: stretch;justify-content: center;background-color: white;position: relative;}#sk-container-id-2 div.sk-item::before, #sk-container-id-2 div.sk-parallel-item::before {content: \"\";position: absolute;border-left: 1px solid gray;box-sizing: border-box;top: 0;bottom: 0;left: 50%;z-index: -1;}#sk-container-id-2 div.sk-parallel-item {display: flex;flex-direction: column;z-index: 1;position: relative;background-color: white;}#sk-container-id-2 div.sk-parallel-item:first-child::after {align-self: flex-end;width: 50%;}#sk-container-id-2 div.sk-parallel-item:last-child::after {align-self: flex-start;width: 50%;}#sk-container-id-2 div.sk-parallel-item:only-child::after {width: 0;}#sk-container-id-2 div.sk-dashed-wrapped {border: 1px dashed gray;margin: 0 0.4em 0.5em 0.4em;box-sizing: border-box;padding-bottom: 0.4em;background-color: white;}#sk-container-id-2 div.sk-label label {font-family: monospace;font-weight: bold;display: inline-block;line-height: 1.2em;}#sk-container-id-2 div.sk-label-container {text-align: center;}#sk-container-id-2 div.sk-container {/* jupyter's `normalize.less` sets `[hidden] { display: none; }` but bootstrap.min.css set `[hidden] { display: none !important; }` so we also need the `!important` here to be able to override the default hidden behavior on the sphinx rendered scikit-learn.org. See: https://github.com/scikit-learn/scikit-learn/issues/21755 */display: inline-block !important;position: relative;}#sk-container-id-2 div.sk-text-repr-fallback {display: none;}</style><div id=\"sk-container-id-2\" class=\"sk-top-container\"><div class=\"sk-text-repr-fallback\"><pre>GridSearchCV(cv=5, estimator=LogisticRegression(solver=&#x27;liblinear&#x27;),\n",
              "             param_grid={&#x27;C&#x27;: [0.0001, 0.001, 0.01, 0.1, 1, 10],\n",
              "                         &#x27;penalty&#x27;: [&#x27;l1&#x27;, &#x27;l2&#x27;]},\n",
              "             scoring=&#x27;accuracy&#x27;)</pre><b>In a Jupyter environment, please rerun this cell to show the HTML representation or trust the notebook. <br />On GitHub, the HTML representation is unable to render, please try loading this page with nbviewer.org.</b></div><div class=\"sk-container\" hidden><div class=\"sk-item sk-dashed-wrapped\"><div class=\"sk-label-container\"><div class=\"sk-label sk-toggleable\"><input class=\"sk-toggleable__control sk-hidden--visually\" id=\"sk-estimator-id-4\" type=\"checkbox\" ><label for=\"sk-estimator-id-4\" class=\"sk-toggleable__label sk-toggleable__label-arrow\">GridSearchCV</label><div class=\"sk-toggleable__content\"><pre>GridSearchCV(cv=5, estimator=LogisticRegression(solver=&#x27;liblinear&#x27;),\n",
              "             param_grid={&#x27;C&#x27;: [0.0001, 0.001, 0.01, 0.1, 1, 10],\n",
              "                         &#x27;penalty&#x27;: [&#x27;l1&#x27;, &#x27;l2&#x27;]},\n",
              "             scoring=&#x27;accuracy&#x27;)</pre></div></div></div><div class=\"sk-parallel\"><div class=\"sk-parallel-item\"><div class=\"sk-item\"><div class=\"sk-label-container\"><div class=\"sk-label sk-toggleable\"><input class=\"sk-toggleable__control sk-hidden--visually\" id=\"sk-estimator-id-5\" type=\"checkbox\" ><label for=\"sk-estimator-id-5\" class=\"sk-toggleable__label sk-toggleable__label-arrow\">estimator: LogisticRegression</label><div class=\"sk-toggleable__content\"><pre>LogisticRegression(solver=&#x27;liblinear&#x27;)</pre></div></div></div><div class=\"sk-serial\"><div class=\"sk-item\"><div class=\"sk-estimator sk-toggleable\"><input class=\"sk-toggleable__control sk-hidden--visually\" id=\"sk-estimator-id-6\" type=\"checkbox\" ><label for=\"sk-estimator-id-6\" class=\"sk-toggleable__label sk-toggleable__label-arrow\">LogisticRegression</label><div class=\"sk-toggleable__content\"><pre>LogisticRegression(solver=&#x27;liblinear&#x27;)</pre></div></div></div></div></div></div></div></div></div></div>"
            ]
          },
          "metadata": {},
          "execution_count": 34
        }
      ]
    },
    {
      "cell_type": "code",
      "source": [
        "best_params = grid_search.best_params_\n",
        "print(\"Best Parameters:\", best_params)"
      ],
      "metadata": {
        "colab": {
          "base_uri": "https://localhost:8080/"
        },
        "id": "IlD2wSQ0Se_Q",
        "outputId": "8246b1be-8714-48c8-dbd0-55b962253305"
      },
      "execution_count": null,
      "outputs": [
        {
          "output_type": "stream",
          "name": "stdout",
          "text": [
            "Best Parameters: {'C': 0.001, 'penalty': 'l2'}\n"
          ]
        }
      ]
    },
    {
      "cell_type": "code",
      "source": [
        "best_logistic_reg = LogisticRegression(C=best_params['C'], penalty=best_params['penalty'], solver='liblinear')\n",
        "best_logistic_reg.fit(X_train, y_train)\n",
        "y_pred = best_logistic_reg.predict(X_test)\n",
        "\n",
        "accuracy = accuracy_score(y_test, y_pred)\n",
        "print(f'Accuracy with Best Parameters: {accuracy:.2f}')\n",
        "\n",
        "report = classification_report(y_test, y_pred)\n",
        "print(report)\n"
      ],
      "metadata": {
        "colab": {
          "base_uri": "https://localhost:8080/"
        },
        "id": "Htz5u2qvSfBy",
        "outputId": "4252a644-9ba6-4e38-a251-9374f5669fd6"
      },
      "execution_count": null,
      "outputs": [
        {
          "output_type": "stream",
          "name": "stdout",
          "text": [
            "Accuracy with Best Parameters: 0.61\n",
            "              precision    recall  f1-score   support\n",
            "\n",
            "         0.0       0.62      0.94      0.74       264\n",
            "         1.0       0.51      0.10      0.17       172\n",
            "\n",
            "    accuracy                           0.61       436\n",
            "   macro avg       0.57      0.52      0.46       436\n",
            "weighted avg       0.58      0.61      0.52       436\n",
            "\n"
          ]
        }
      ]
    },
    {
      "cell_type": "markdown",
      "source": [
        "**KNN**"
      ],
      "metadata": {
        "id": "9Epa9-FEUbyu"
      }
    },
    {
      "cell_type": "code",
      "source": [
        "param_grid = {\n",
        "    'n_neighbors': [3, 5, 7],      # Number of neighbors\n",
        "    'metric': ['euclidean', 'manhattan', 'chebyshev']  # Distance metric\n",
        "}"
      ],
      "metadata": {
        "id": "iLbbbD5pUUFG"
      },
      "execution_count": null,
      "outputs": []
    },
    {
      "cell_type": "code",
      "source": [
        "knn = KNeighborsClassifier()\n",
        "grid_search = GridSearchCV(estimator=knn, param_grid=param_grid, scoring='accuracy', cv=5)\n",
        "grid_search.fit(X_train, y_train)\n"
      ],
      "metadata": {
        "colab": {
          "base_uri": "https://localhost:8080/",
          "height": 118
        },
        "id": "StpTQxAlSfGc",
        "outputId": "ad14deac-eca5-461e-ad41-70e9066d986a"
      },
      "execution_count": null,
      "outputs": [
        {
          "output_type": "execute_result",
          "data": {
            "text/plain": [
              "GridSearchCV(cv=5, estimator=KNeighborsClassifier(),\n",
              "             param_grid={'metric': ['euclidean', 'manhattan', 'chebyshev'],\n",
              "                         'n_neighbors': [3, 5, 7]},\n",
              "             scoring='accuracy')"
            ],
            "text/html": [
              "<style>#sk-container-id-3 {color: black;background-color: white;}#sk-container-id-3 pre{padding: 0;}#sk-container-id-3 div.sk-toggleable {background-color: white;}#sk-container-id-3 label.sk-toggleable__label {cursor: pointer;display: block;width: 100%;margin-bottom: 0;padding: 0.3em;box-sizing: border-box;text-align: center;}#sk-container-id-3 label.sk-toggleable__label-arrow:before {content: \"▸\";float: left;margin-right: 0.25em;color: #696969;}#sk-container-id-3 label.sk-toggleable__label-arrow:hover:before {color: black;}#sk-container-id-3 div.sk-estimator:hover label.sk-toggleable__label-arrow:before {color: black;}#sk-container-id-3 div.sk-toggleable__content {max-height: 0;max-width: 0;overflow: hidden;text-align: left;background-color: #f0f8ff;}#sk-container-id-3 div.sk-toggleable__content pre {margin: 0.2em;color: black;border-radius: 0.25em;background-color: #f0f8ff;}#sk-container-id-3 input.sk-toggleable__control:checked~div.sk-toggleable__content {max-height: 200px;max-width: 100%;overflow: auto;}#sk-container-id-3 input.sk-toggleable__control:checked~label.sk-toggleable__label-arrow:before {content: \"▾\";}#sk-container-id-3 div.sk-estimator input.sk-toggleable__control:checked~label.sk-toggleable__label {background-color: #d4ebff;}#sk-container-id-3 div.sk-label input.sk-toggleable__control:checked~label.sk-toggleable__label {background-color: #d4ebff;}#sk-container-id-3 input.sk-hidden--visually {border: 0;clip: rect(1px 1px 1px 1px);clip: rect(1px, 1px, 1px, 1px);height: 1px;margin: -1px;overflow: hidden;padding: 0;position: absolute;width: 1px;}#sk-container-id-3 div.sk-estimator {font-family: monospace;background-color: #f0f8ff;border: 1px dotted black;border-radius: 0.25em;box-sizing: border-box;margin-bottom: 0.5em;}#sk-container-id-3 div.sk-estimator:hover {background-color: #d4ebff;}#sk-container-id-3 div.sk-parallel-item::after {content: \"\";width: 100%;border-bottom: 1px solid gray;flex-grow: 1;}#sk-container-id-3 div.sk-label:hover label.sk-toggleable__label {background-color: #d4ebff;}#sk-container-id-3 div.sk-serial::before {content: \"\";position: absolute;border-left: 1px solid gray;box-sizing: border-box;top: 0;bottom: 0;left: 50%;z-index: 0;}#sk-container-id-3 div.sk-serial {display: flex;flex-direction: column;align-items: center;background-color: white;padding-right: 0.2em;padding-left: 0.2em;position: relative;}#sk-container-id-3 div.sk-item {position: relative;z-index: 1;}#sk-container-id-3 div.sk-parallel {display: flex;align-items: stretch;justify-content: center;background-color: white;position: relative;}#sk-container-id-3 div.sk-item::before, #sk-container-id-3 div.sk-parallel-item::before {content: \"\";position: absolute;border-left: 1px solid gray;box-sizing: border-box;top: 0;bottom: 0;left: 50%;z-index: -1;}#sk-container-id-3 div.sk-parallel-item {display: flex;flex-direction: column;z-index: 1;position: relative;background-color: white;}#sk-container-id-3 div.sk-parallel-item:first-child::after {align-self: flex-end;width: 50%;}#sk-container-id-3 div.sk-parallel-item:last-child::after {align-self: flex-start;width: 50%;}#sk-container-id-3 div.sk-parallel-item:only-child::after {width: 0;}#sk-container-id-3 div.sk-dashed-wrapped {border: 1px dashed gray;margin: 0 0.4em 0.5em 0.4em;box-sizing: border-box;padding-bottom: 0.4em;background-color: white;}#sk-container-id-3 div.sk-label label {font-family: monospace;font-weight: bold;display: inline-block;line-height: 1.2em;}#sk-container-id-3 div.sk-label-container {text-align: center;}#sk-container-id-3 div.sk-container {/* jupyter's `normalize.less` sets `[hidden] { display: none; }` but bootstrap.min.css set `[hidden] { display: none !important; }` so we also need the `!important` here to be able to override the default hidden behavior on the sphinx rendered scikit-learn.org. See: https://github.com/scikit-learn/scikit-learn/issues/21755 */display: inline-block !important;position: relative;}#sk-container-id-3 div.sk-text-repr-fallback {display: none;}</style><div id=\"sk-container-id-3\" class=\"sk-top-container\"><div class=\"sk-text-repr-fallback\"><pre>GridSearchCV(cv=5, estimator=KNeighborsClassifier(),\n",
              "             param_grid={&#x27;metric&#x27;: [&#x27;euclidean&#x27;, &#x27;manhattan&#x27;, &#x27;chebyshev&#x27;],\n",
              "                         &#x27;n_neighbors&#x27;: [3, 5, 7]},\n",
              "             scoring=&#x27;accuracy&#x27;)</pre><b>In a Jupyter environment, please rerun this cell to show the HTML representation or trust the notebook. <br />On GitHub, the HTML representation is unable to render, please try loading this page with nbviewer.org.</b></div><div class=\"sk-container\" hidden><div class=\"sk-item sk-dashed-wrapped\"><div class=\"sk-label-container\"><div class=\"sk-label sk-toggleable\"><input class=\"sk-toggleable__control sk-hidden--visually\" id=\"sk-estimator-id-7\" type=\"checkbox\" ><label for=\"sk-estimator-id-7\" class=\"sk-toggleable__label sk-toggleable__label-arrow\">GridSearchCV</label><div class=\"sk-toggleable__content\"><pre>GridSearchCV(cv=5, estimator=KNeighborsClassifier(),\n",
              "             param_grid={&#x27;metric&#x27;: [&#x27;euclidean&#x27;, &#x27;manhattan&#x27;, &#x27;chebyshev&#x27;],\n",
              "                         &#x27;n_neighbors&#x27;: [3, 5, 7]},\n",
              "             scoring=&#x27;accuracy&#x27;)</pre></div></div></div><div class=\"sk-parallel\"><div class=\"sk-parallel-item\"><div class=\"sk-item\"><div class=\"sk-label-container\"><div class=\"sk-label sk-toggleable\"><input class=\"sk-toggleable__control sk-hidden--visually\" id=\"sk-estimator-id-8\" type=\"checkbox\" ><label for=\"sk-estimator-id-8\" class=\"sk-toggleable__label sk-toggleable__label-arrow\">estimator: KNeighborsClassifier</label><div class=\"sk-toggleable__content\"><pre>KNeighborsClassifier()</pre></div></div></div><div class=\"sk-serial\"><div class=\"sk-item\"><div class=\"sk-estimator sk-toggleable\"><input class=\"sk-toggleable__control sk-hidden--visually\" id=\"sk-estimator-id-9\" type=\"checkbox\" ><label for=\"sk-estimator-id-9\" class=\"sk-toggleable__label sk-toggleable__label-arrow\">KNeighborsClassifier</label><div class=\"sk-toggleable__content\"><pre>KNeighborsClassifier()</pre></div></div></div></div></div></div></div></div></div></div>"
            ]
          },
          "metadata": {},
          "execution_count": 38
        }
      ]
    },
    {
      "cell_type": "code",
      "source": [
        "best_params = grid_search.best_params_\n",
        "print(\"Best Parameters:\", best_params)\n"
      ],
      "metadata": {
        "colab": {
          "base_uri": "https://localhost:8080/"
        },
        "id": "5NXu0Cd9UjEh",
        "outputId": "7de2c1df-59ab-4a0d-a7c5-33cd65fe99bf"
      },
      "execution_count": null,
      "outputs": [
        {
          "output_type": "stream",
          "name": "stdout",
          "text": [
            "Best Parameters: {'metric': 'euclidean', 'n_neighbors': 7}\n"
          ]
        }
      ]
    },
    {
      "cell_type": "code",
      "source": [
        "best_knn = KNeighborsClassifier(n_neighbors=best_params['n_neighbors'], metric=best_params['metric'])\n",
        "best_knn.fit(X_train, y_train)\n",
        "y_pred = best_knn.predict(X_test)\n",
        "\n",
        "accuracy = accuracy_score(y_test, y_pred)\n",
        "print(f'Accuracy with Best Parameters: {accuracy:.2f}')\n",
        "\n",
        "report = classification_report(y_test, y_pred)\n",
        "print(report)\n"
      ],
      "metadata": {
        "colab": {
          "base_uri": "https://localhost:8080/"
        },
        "id": "J3ZYGCSMUoQA",
        "outputId": "f3753ece-7499-425d-d6d6-55d7b959cb45"
      },
      "execution_count": null,
      "outputs": [
        {
          "output_type": "stream",
          "name": "stdout",
          "text": [
            "Accuracy with Best Parameters: 0.63\n",
            "              precision    recall  f1-score   support\n",
            "\n",
            "         0.0       0.65      0.83      0.73       264\n",
            "         1.0       0.56      0.32      0.41       172\n",
            "\n",
            "    accuracy                           0.63       436\n",
            "   macro avg       0.60      0.58      0.57       436\n",
            "weighted avg       0.61      0.63      0.60       436\n",
            "\n"
          ]
        }
      ]
    },
    {
      "cell_type": "markdown",
      "source": [
        "**SVM**"
      ],
      "metadata": {
        "id": "pr953tm0Ur_l"
      }
    },
    {
      "cell_type": "code",
      "source": [
        "param_grid = {\n",
        "    'C': [0.1, 1, 5,10,20],               # Regularization parameter\n",
        "    'kernel': ['linear', 'rbf'],     # Kernel type\n",
        "    'gamma': ['scale', 'auto', 0.1]  # Kernel coefficient (only for 'rbf' kernel)\n",
        "}\n"
      ],
      "metadata": {
        "id": "kgeq-HNUUrbK"
      },
      "execution_count": null,
      "outputs": []
    },
    {
      "cell_type": "code",
      "source": [
        "svm = SVC()\n",
        "grid_search = GridSearchCV(estimator=svm, param_grid=param_grid, scoring='accuracy', cv=5)\n",
        "grid_search.fit(X_train, y_train)\n"
      ],
      "metadata": {
        "colab": {
          "base_uri": "https://localhost:8080/",
          "height": 118
        },
        "id": "fWT9LaT6UzZD",
        "outputId": "a62c71c8-c447-410b-8e7d-ec03b876ec79"
      },
      "execution_count": null,
      "outputs": [
        {
          "output_type": "execute_result",
          "data": {
            "text/plain": [
              "GridSearchCV(cv=5, estimator=SVC(),\n",
              "             param_grid={'C': [0.1, 1, 5, 10, 20],\n",
              "                         'gamma': ['scale', 'auto', 0.1],\n",
              "                         'kernel': ['linear', 'rbf']},\n",
              "             scoring='accuracy')"
            ],
            "text/html": [
              "<style>#sk-container-id-4 {color: black;background-color: white;}#sk-container-id-4 pre{padding: 0;}#sk-container-id-4 div.sk-toggleable {background-color: white;}#sk-container-id-4 label.sk-toggleable__label {cursor: pointer;display: block;width: 100%;margin-bottom: 0;padding: 0.3em;box-sizing: border-box;text-align: center;}#sk-container-id-4 label.sk-toggleable__label-arrow:before {content: \"▸\";float: left;margin-right: 0.25em;color: #696969;}#sk-container-id-4 label.sk-toggleable__label-arrow:hover:before {color: black;}#sk-container-id-4 div.sk-estimator:hover label.sk-toggleable__label-arrow:before {color: black;}#sk-container-id-4 div.sk-toggleable__content {max-height: 0;max-width: 0;overflow: hidden;text-align: left;background-color: #f0f8ff;}#sk-container-id-4 div.sk-toggleable__content pre {margin: 0.2em;color: black;border-radius: 0.25em;background-color: #f0f8ff;}#sk-container-id-4 input.sk-toggleable__control:checked~div.sk-toggleable__content {max-height: 200px;max-width: 100%;overflow: auto;}#sk-container-id-4 input.sk-toggleable__control:checked~label.sk-toggleable__label-arrow:before {content: \"▾\";}#sk-container-id-4 div.sk-estimator input.sk-toggleable__control:checked~label.sk-toggleable__label {background-color: #d4ebff;}#sk-container-id-4 div.sk-label input.sk-toggleable__control:checked~label.sk-toggleable__label {background-color: #d4ebff;}#sk-container-id-4 input.sk-hidden--visually {border: 0;clip: rect(1px 1px 1px 1px);clip: rect(1px, 1px, 1px, 1px);height: 1px;margin: -1px;overflow: hidden;padding: 0;position: absolute;width: 1px;}#sk-container-id-4 div.sk-estimator {font-family: monospace;background-color: #f0f8ff;border: 1px dotted black;border-radius: 0.25em;box-sizing: border-box;margin-bottom: 0.5em;}#sk-container-id-4 div.sk-estimator:hover {background-color: #d4ebff;}#sk-container-id-4 div.sk-parallel-item::after {content: \"\";width: 100%;border-bottom: 1px solid gray;flex-grow: 1;}#sk-container-id-4 div.sk-label:hover label.sk-toggleable__label {background-color: #d4ebff;}#sk-container-id-4 div.sk-serial::before {content: \"\";position: absolute;border-left: 1px solid gray;box-sizing: border-box;top: 0;bottom: 0;left: 50%;z-index: 0;}#sk-container-id-4 div.sk-serial {display: flex;flex-direction: column;align-items: center;background-color: white;padding-right: 0.2em;padding-left: 0.2em;position: relative;}#sk-container-id-4 div.sk-item {position: relative;z-index: 1;}#sk-container-id-4 div.sk-parallel {display: flex;align-items: stretch;justify-content: center;background-color: white;position: relative;}#sk-container-id-4 div.sk-item::before, #sk-container-id-4 div.sk-parallel-item::before {content: \"\";position: absolute;border-left: 1px solid gray;box-sizing: border-box;top: 0;bottom: 0;left: 50%;z-index: -1;}#sk-container-id-4 div.sk-parallel-item {display: flex;flex-direction: column;z-index: 1;position: relative;background-color: white;}#sk-container-id-4 div.sk-parallel-item:first-child::after {align-self: flex-end;width: 50%;}#sk-container-id-4 div.sk-parallel-item:last-child::after {align-self: flex-start;width: 50%;}#sk-container-id-4 div.sk-parallel-item:only-child::after {width: 0;}#sk-container-id-4 div.sk-dashed-wrapped {border: 1px dashed gray;margin: 0 0.4em 0.5em 0.4em;box-sizing: border-box;padding-bottom: 0.4em;background-color: white;}#sk-container-id-4 div.sk-label label {font-family: monospace;font-weight: bold;display: inline-block;line-height: 1.2em;}#sk-container-id-4 div.sk-label-container {text-align: center;}#sk-container-id-4 div.sk-container {/* jupyter's `normalize.less` sets `[hidden] { display: none; }` but bootstrap.min.css set `[hidden] { display: none !important; }` so we also need the `!important` here to be able to override the default hidden behavior on the sphinx rendered scikit-learn.org. See: https://github.com/scikit-learn/scikit-learn/issues/21755 */display: inline-block !important;position: relative;}#sk-container-id-4 div.sk-text-repr-fallback {display: none;}</style><div id=\"sk-container-id-4\" class=\"sk-top-container\"><div class=\"sk-text-repr-fallback\"><pre>GridSearchCV(cv=5, estimator=SVC(),\n",
              "             param_grid={&#x27;C&#x27;: [0.1, 1, 5, 10, 20],\n",
              "                         &#x27;gamma&#x27;: [&#x27;scale&#x27;, &#x27;auto&#x27;, 0.1],\n",
              "                         &#x27;kernel&#x27;: [&#x27;linear&#x27;, &#x27;rbf&#x27;]},\n",
              "             scoring=&#x27;accuracy&#x27;)</pre><b>In a Jupyter environment, please rerun this cell to show the HTML representation or trust the notebook. <br />On GitHub, the HTML representation is unable to render, please try loading this page with nbviewer.org.</b></div><div class=\"sk-container\" hidden><div class=\"sk-item sk-dashed-wrapped\"><div class=\"sk-label-container\"><div class=\"sk-label sk-toggleable\"><input class=\"sk-toggleable__control sk-hidden--visually\" id=\"sk-estimator-id-10\" type=\"checkbox\" ><label for=\"sk-estimator-id-10\" class=\"sk-toggleable__label sk-toggleable__label-arrow\">GridSearchCV</label><div class=\"sk-toggleable__content\"><pre>GridSearchCV(cv=5, estimator=SVC(),\n",
              "             param_grid={&#x27;C&#x27;: [0.1, 1, 5, 10, 20],\n",
              "                         &#x27;gamma&#x27;: [&#x27;scale&#x27;, &#x27;auto&#x27;, 0.1],\n",
              "                         &#x27;kernel&#x27;: [&#x27;linear&#x27;, &#x27;rbf&#x27;]},\n",
              "             scoring=&#x27;accuracy&#x27;)</pre></div></div></div><div class=\"sk-parallel\"><div class=\"sk-parallel-item\"><div class=\"sk-item\"><div class=\"sk-label-container\"><div class=\"sk-label sk-toggleable\"><input class=\"sk-toggleable__control sk-hidden--visually\" id=\"sk-estimator-id-11\" type=\"checkbox\" ><label for=\"sk-estimator-id-11\" class=\"sk-toggleable__label sk-toggleable__label-arrow\">estimator: SVC</label><div class=\"sk-toggleable__content\"><pre>SVC()</pre></div></div></div><div class=\"sk-serial\"><div class=\"sk-item\"><div class=\"sk-estimator sk-toggleable\"><input class=\"sk-toggleable__control sk-hidden--visually\" id=\"sk-estimator-id-12\" type=\"checkbox\" ><label for=\"sk-estimator-id-12\" class=\"sk-toggleable__label sk-toggleable__label-arrow\">SVC</label><div class=\"sk-toggleable__content\"><pre>SVC()</pre></div></div></div></div></div></div></div></div></div></div>"
            ]
          },
          "metadata": {},
          "execution_count": 42
        }
      ]
    },
    {
      "cell_type": "code",
      "source": [
        "best_params = grid_search.best_params_\n",
        "print(\"Best Parameters:\", best_params)"
      ],
      "metadata": {
        "colab": {
          "base_uri": "https://localhost:8080/"
        },
        "id": "DOxIdkX5VkKh",
        "outputId": "60851db7-f202-4e18-c8c8-ccc6f80106de"
      },
      "execution_count": null,
      "outputs": [
        {
          "output_type": "stream",
          "name": "stdout",
          "text": [
            "Best Parameters: {'C': 20, 'gamma': 0.1, 'kernel': 'rbf'}\n"
          ]
        }
      ]
    },
    {
      "cell_type": "code",
      "source": [
        "best_svm = SVC(C=best_params['C'], kernel=best_params['kernel'], gamma=best_params['gamma'])\n",
        "best_svm.fit(X_train, y_train)\n",
        "y_pred = best_svm.predict(X_test)\n",
        "\n",
        "accuracy = accuracy_score(y_test, y_pred)\n",
        "print(f'Accuracy with Best Parameters: {accuracy:.2f}')\n",
        "\n",
        "report = classification_report(y_test, y_pred)\n",
        "print(report)"
      ],
      "metadata": {
        "colab": {
          "base_uri": "https://localhost:8080/"
        },
        "id": "54XAvcNLVmn6",
        "outputId": "363e176b-6843-43c1-a56e-9a2f012c04be"
      },
      "execution_count": null,
      "outputs": [
        {
          "output_type": "stream",
          "name": "stdout",
          "text": [
            "Accuracy with Best Parameters: 0.63\n",
            "              precision    recall  f1-score   support\n",
            "\n",
            "         0.0       0.69      0.71      0.70       264\n",
            "         1.0       0.53      0.51      0.52       172\n",
            "\n",
            "    accuracy                           0.63       436\n",
            "   macro avg       0.61      0.61      0.61       436\n",
            "weighted avg       0.63      0.63      0.63       436\n",
            "\n"
          ]
        }
      ]
    },
    {
      "cell_type": "markdown",
      "source": [
        "**Deep learning models**"
      ],
      "metadata": {
        "id": "pjxdGIdfVrr3"
      }
    },
    {
      "cell_type": "code",
      "source": [
        "from keras.models import Sequential\n",
        "from keras.layers import Dense, Embedding, LSTM\n",
        "import tensorflow as tf\n",
        "from tensorflow.keras.layers import SimpleRNN\n",
        "from tensorflow import keras\n"
      ],
      "metadata": {
        "id": "6PxSUOtpWTZR"
      },
      "execution_count": null,
      "outputs": []
    },
    {
      "cell_type": "code",
      "source": [
        "model1 = Sequential()\n",
        "model1.add(Embedding(input_dim=vocab_size, output_dim=32, input_length=max_sequence_length))\n",
        "model1.add(keras.layers.SimpleRNN(32, return_sequences=True))\n",
        "model1.add(keras.layers.SimpleRNN(32, return_sequences=True))  # Adding a deep RNN layer\n",
        "model1.add(keras.layers.SimpleRNN(32))\n",
        "model1.add(Dense(1, activation='sigmoid'))\n",
        "\n",
        "model1.compile(optimizer='adam', loss='binary_crossentropy', metrics=['accuracy'])"
      ],
      "metadata": {
        "id": "8YcxadNCVoma"
      },
      "execution_count": null,
      "outputs": []
    },
    {
      "cell_type": "code",
      "source": [
        "model1.summary()"
      ],
      "metadata": {
        "colab": {
          "base_uri": "https://localhost:8080/"
        },
        "id": "UJOsvPI-O_Tm",
        "outputId": "7b20cd41-fc7b-4288-ee68-619b3988be14"
      },
      "execution_count": null,
      "outputs": [
        {
          "output_type": "stream",
          "name": "stdout",
          "text": [
            "Model: \"sequential_1\"\n",
            "_________________________________________________________________\n",
            " Layer (type)                Output Shape              Param #   \n",
            "=================================================================\n",
            " embedding_1 (Embedding)     (None, 300, 32)           128       \n",
            "                                                                 \n",
            " simple_rnn_1 (SimpleRNN)    (None, 300, 32)           2080      \n",
            "                                                                 \n",
            " simple_rnn_2 (SimpleRNN)    (None, 300, 32)           2080      \n",
            "                                                                 \n",
            " simple_rnn_3 (SimpleRNN)    (None, 32)                2080      \n",
            "                                                                 \n",
            " dense_1 (Dense)             (None, 1)                 33        \n",
            "                                                                 \n",
            "=================================================================\n",
            "Total params: 6401 (25.00 KB)\n",
            "Trainable params: 6401 (25.00 KB)\n",
            "Non-trainable params: 0 (0.00 Byte)\n",
            "_________________________________________________________________\n"
          ]
        }
      ]
    },
    {
      "cell_type": "code",
      "source": [
        "save1=model1.save('/content/gdrive/MyDrive/ALABAMA')"
      ],
      "metadata": {
        "id": "9BM-8Drhs7_h"
      },
      "execution_count": null,
      "outputs": []
    },
    {
      "cell_type": "code",
      "source": [
        "from tensorflow.keras.callbacks import ModelCheckpoint\n",
        "# Define the ModelCheckpoint callback to save the best weights\n",
        "checkpoint = ModelCheckpoint('best_model_weights.h5', monitor='val_accuracy', save_best_only=True, mode='max', verbose=1)\n",
        "num_epochs = 20\n"
      ],
      "metadata": {
        "id": "syxG9ZO2X9RV"
      },
      "execution_count": null,
      "outputs": []
    },
    {
      "cell_type": "code",
      "source": [
        "history=model1.fit(X_train_padded, y_train, epochs=num_epochs, batch_size=2 ,validation_data=(X_test, y_test), callbacks=[checkpoint])"
      ],
      "metadata": {
        "colab": {
          "base_uri": "https://localhost:8080/"
        },
        "id": "vokMpNqlX_t4",
        "outputId": "96c6a127-e7d6-47c9-cb4a-cb44a030cd8e"
      },
      "execution_count": null,
      "outputs": [
        {
          "output_type": "stream",
          "name": "stdout",
          "text": [
            "Epoch 1/20\n",
            "508/508 [==============================] - ETA: 0s - loss: 0.6861 - accuracy: 0.5807\n",
            "Epoch 1: val_accuracy improved from -inf to 0.60550, saving model to best_model_weights.h5\n",
            "508/508 [==============================] - 112s 213ms/step - loss: 0.6861 - accuracy: 0.5807 - val_loss: 0.6689 - val_accuracy: 0.6055\n",
            "Epoch 2/20\n",
            "  1/508 [..............................] - ETA: 1:18 - loss: 0.7391 - accuracy: 0.5000"
          ]
        },
        {
          "output_type": "stream",
          "name": "stderr",
          "text": [
            "/usr/local/lib/python3.10/dist-packages/keras/src/engine/training.py:3000: UserWarning: You are saving your model as an HDF5 file via `model.save()`. This file format is considered legacy. We recommend using instead the native Keras format, e.g. `model.save('my_model.keras')`.\n",
            "  saving_api.save_model(\n"
          ]
        },
        {
          "output_type": "stream",
          "name": "stdout",
          "text": [
            "508/508 [==============================] - ETA: 0s - loss: 0.6656 - accuracy: 0.6211\n",
            "Epoch 2: val_accuracy improved from 0.60550 to 0.61468, saving model to best_model_weights.h5\n",
            "508/508 [==============================] - 110s 218ms/step - loss: 0.6656 - accuracy: 0.6211 - val_loss: 0.6686 - val_accuracy: 0.6147\n",
            "Epoch 3/20\n",
            "508/508 [==============================] - ETA: 0s - loss: 0.6530 - accuracy: 0.6250\n",
            "Epoch 3: val_accuracy improved from 0.61468 to 0.63073, saving model to best_model_weights.h5\n",
            "508/508 [==============================] - 107s 210ms/step - loss: 0.6530 - accuracy: 0.6250 - val_loss: 0.6569 - val_accuracy: 0.6307\n",
            "Epoch 4/20\n",
            "508/508 [==============================] - ETA: 0s - loss: 0.6649 - accuracy: 0.6024\n",
            "Epoch 4: val_accuracy improved from 0.63073 to 0.63303, saving model to best_model_weights.h5\n",
            "508/508 [==============================] - 108s 212ms/step - loss: 0.6649 - accuracy: 0.6024 - val_loss: 0.6508 - val_accuracy: 0.6330\n",
            "Epoch 5/20\n",
            "508/508 [==============================] - ETA: 0s - loss: 0.6496 - accuracy: 0.6329\n",
            "Epoch 5: val_accuracy did not improve from 0.63303\n",
            "508/508 [==============================] - 105s 207ms/step - loss: 0.6496 - accuracy: 0.6329 - val_loss: 0.6411 - val_accuracy: 0.6330\n",
            "Epoch 6/20\n",
            "508/508 [==============================] - ETA: 0s - loss: 0.6496 - accuracy: 0.6280\n",
            "Epoch 6: val_accuracy did not improve from 0.63303\n",
            "508/508 [==============================] - 105s 207ms/step - loss: 0.6496 - accuracy: 0.6280 - val_loss: 0.6433 - val_accuracy: 0.6307\n",
            "Epoch 7/20\n",
            "508/508 [==============================] - ETA: 0s - loss: 0.6359 - accuracy: 0.6280\n",
            "Epoch 7: val_accuracy did not improve from 0.63303\n",
            "508/508 [==============================] - 110s 217ms/step - loss: 0.6359 - accuracy: 0.6280 - val_loss: 0.6565 - val_accuracy: 0.6330\n",
            "Epoch 8/20\n",
            "508/508 [==============================] - ETA: 0s - loss: 0.6417 - accuracy: 0.6201\n",
            "Epoch 8: val_accuracy did not improve from 0.63303\n",
            "508/508 [==============================] - 108s 212ms/step - loss: 0.6417 - accuracy: 0.6201 - val_loss: 0.6613 - val_accuracy: 0.6055\n",
            "Epoch 9/20\n",
            "508/508 [==============================] - ETA: 0s - loss: 0.6294 - accuracy: 0.6299\n",
            "Epoch 9: val_accuracy did not improve from 0.63303\n",
            "508/508 [==============================] - 104s 206ms/step - loss: 0.6294 - accuracy: 0.6299 - val_loss: 0.6410 - val_accuracy: 0.5688\n",
            "Epoch 10/20\n",
            "508/508 [==============================] - ETA: 0s - loss: 0.6161 - accuracy: 0.6339\n",
            "Epoch 10: val_accuracy did not improve from 0.63303\n",
            "508/508 [==============================] - 106s 209ms/step - loss: 0.6161 - accuracy: 0.6339 - val_loss: 0.6235 - val_accuracy: 0.6307\n",
            "Epoch 11/20\n",
            "508/508 [==============================] - ETA: 0s - loss: 0.6431 - accuracy: 0.6122\n",
            "Epoch 11: val_accuracy did not improve from 0.63303\n",
            "508/508 [==============================] - 106s 209ms/step - loss: 0.6431 - accuracy: 0.6122 - val_loss: 0.6778 - val_accuracy: 0.6124\n",
            "Epoch 12/20\n",
            "508/508 [==============================] - ETA: 0s - loss: 0.6625 - accuracy: 0.6083\n",
            "Epoch 12: val_accuracy did not improve from 0.63303\n",
            "508/508 [==============================] - 106s 210ms/step - loss: 0.6625 - accuracy: 0.6083 - val_loss: 0.7436 - val_accuracy: 0.6147\n",
            "Epoch 13/20\n",
            "508/508 [==============================] - ETA: 0s - loss: 0.6576 - accuracy: 0.6122\n",
            "Epoch 13: val_accuracy did not improve from 0.63303\n",
            "508/508 [==============================] - 105s 208ms/step - loss: 0.6576 - accuracy: 0.6122 - val_loss: 0.6720 - val_accuracy: 0.6055\n",
            "Epoch 14/20\n",
            "508/508 [==============================] - ETA: 0s - loss: 0.6491 - accuracy: 0.6407\n",
            "Epoch 14: val_accuracy did not improve from 0.63303\n",
            "508/508 [==============================] - 105s 208ms/step - loss: 0.6491 - accuracy: 0.6407 - val_loss: 0.6670 - val_accuracy: 0.6147\n",
            "Epoch 15/20\n",
            "508/508 [==============================] - ETA: 0s - loss: 0.6444 - accuracy: 0.6427\n",
            "Epoch 15: val_accuracy did not improve from 0.63303\n",
            "508/508 [==============================] - 107s 211ms/step - loss: 0.6444 - accuracy: 0.6427 - val_loss: 0.6536 - val_accuracy: 0.5344\n",
            "Epoch 16/20\n",
            "508/508 [==============================] - ETA: 0s - loss: 0.6158 - accuracy: 0.6398\n",
            "Epoch 16: val_accuracy did not improve from 0.63303\n",
            "508/508 [==============================] - 106s 208ms/step - loss: 0.6158 - accuracy: 0.6398 - val_loss: 0.6335 - val_accuracy: 0.6147\n",
            "Epoch 17/20\n",
            "508/508 [==============================] - ETA: 0s - loss: 0.6159 - accuracy: 0.6319\n",
            "Epoch 17: val_accuracy did not improve from 0.63303\n",
            "508/508 [==============================] - 106s 208ms/step - loss: 0.6159 - accuracy: 0.6319 - val_loss: 0.8202 - val_accuracy: 0.6307\n",
            "Epoch 18/20\n",
            "508/508 [==============================] - ETA: 0s - loss: 0.6131 - accuracy: 0.6358\n",
            "Epoch 18: val_accuracy did not improve from 0.63303\n",
            "508/508 [==============================] - 110s 217ms/step - loss: 0.6131 - accuracy: 0.6358 - val_loss: 0.7016 - val_accuracy: 0.6147\n",
            "Epoch 19/20\n",
            "508/508 [==============================] - ETA: 0s - loss: 0.6157 - accuracy: 0.6398\n",
            "Epoch 19: val_accuracy did not improve from 0.63303\n",
            "508/508 [==============================] - 108s 212ms/step - loss: 0.6157 - accuracy: 0.6398 - val_loss: 0.6264 - val_accuracy: 0.6147\n",
            "Epoch 20/20\n",
            "508/508 [==============================] - ETA: 0s - loss: 0.6099 - accuracy: 0.6378\n",
            "Epoch 20: val_accuracy did not improve from 0.63303\n",
            "508/508 [==============================] - 108s 213ms/step - loss: 0.6099 - accuracy: 0.6378 - val_loss: 0.6354 - val_accuracy: 0.6147\n"
          ]
        }
      ]
    },
    {
      "cell_type": "code",
      "source": [
        "plt.plot(history.history['loss'], linewidth=1, label='Train')\n",
        "plt.plot(history.history['val_loss'], linewidth=1, label='Test')\n",
        "plt.legend(loc='upper left')\n",
        "plt.title('Model loss')\n",
        "plt.ylabel('Loss')\n",
        "plt.xlabel('Epoch')\n",
        "plt.show()"
      ],
      "metadata": {
        "colab": {
          "base_uri": "https://localhost:8080/",
          "height": 472
        },
        "id": "yiX6EwwQX_wg",
        "outputId": "138f34e2-b479-4d72-c38a-9e8256fb78a6"
      },
      "execution_count": null,
      "outputs": [
        {
          "output_type": "display_data",
          "data": {
            "text/plain": [
              "<Figure size 640x480 with 1 Axes>"
            ],
            "image/png": "[encoded data removed]"
          },
          "metadata": {}
        }
      ]
    },
    {
      "cell_type": "code",
      "source": [
        "plt.plot(history.history['accuracy'], linewidth=1.2, label='Train')\n",
        "plt.plot(history.history['val_accuracy'], linewidth=1.2, label='Test')\n",
        "plt.legend(loc='lower left')\n",
        "plt.title('Model accuracy')\n",
        "plt.ylabel('Loss')\n",
        "plt.xlabel('Epoch')\n",
        "plt.show()"
      ],
      "metadata": {
        "colab": {
          "base_uri": "https://localhost:8080/",
          "height": 472
        },
        "id": "OzZEbM7VnEFz",
        "outputId": "0924e354-9fc3-4dc7-86b2-609a522c9802"
      },
      "execution_count": null,
      "outputs": [
        {
          "output_type": "display_data",
          "data": {
            "text/plain": [
              "<Figure size 640x480 with 1 Axes>"
            ],
            "image/png": "[encoded data removed]"
          },
          "metadata": {}
        }
      ]
    }
  ]
}